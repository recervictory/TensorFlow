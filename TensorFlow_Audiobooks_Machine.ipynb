{
  "nbformat": 4,
  "nbformat_minor": 0,
  "metadata": {
    "kernelspec": {
      "display_name": "Python [conda env:py3-TF2.0]",
      "language": "python",
      "name": "conda-env-py3-TF2.0-py"
    },
    "language_info": {
      "codemirror_mode": {
        "name": "ipython",
        "version": 3
      },
      "file_extension": ".py",
      "mimetype": "text/x-python",
      "name": "python",
      "nbconvert_exporter": "python",
      "pygments_lexer": "ipython3",
      "version": "3.7.3"
    },
    "colab": {
      "name": "TensorFlow_Audiobooks_Machine.ipynb",
      "provenance": [],
      "toc_visible": true,
      "include_colab_link": true
    }
  },
  "cells": [
    {
      "cell_type": "markdown",
      "metadata": {
        "id": "view-in-github",
        "colab_type": "text"
      },
      "source": [
        "<a href=\"https://colab.research.google.com/github/recervictory/TensorFlow/blob/master/TensorFlow_Audiobooks_Machine.ipynb\" target=\"_parent\"><img src=\"https://colab.research.google.com/assets/colab-badge.svg\" alt=\"Open In Colab\"/></a>"
      ]
    },
    {
      "cell_type": "markdown",
      "metadata": {
        "id": "m9vsW2Y8L7KI",
        "colab_type": "text"
      },
      "source": [
        "# Practical example. Audiobooks"
      ]
    },
    {
      "cell_type": "markdown",
      "metadata": {
        "id": "1Brvl9XfL7KJ",
        "colab_type": "text"
      },
      "source": [
        "## Problem\n",
        "\n",
        "You are given data from an Audiobook app. Logically, it relates only to the audio versions of books. Each customer in the database has made a purchase at least once, that's why he/she is in the database. We want to create a machine learning algorithm based on our available data that can predict if a customer will buy again from the Audiobook company.\n",
        "\n",
        "The main idea is that if a customer has a low probability of coming back, there is no reason to spend any money on advertizing to him/her. If we can focus our efforts ONLY on customers that are likely to convert again, we can make great savings. Moreover, this model can identify the most important metrics for a customer to come back again. Identifying new customers creates value and growth opportunities.\n",
        "\n",
        "You have a .csv summarizing the data. There are several variables: Customer ID, Book length in mins_avg (average of all purchases), Book length in minutes_sum (sum of all purchases), Price Paid_avg (average of all purchases), Price paid_sum (sum of all purchases), Review (a Boolean variable), Review (out of 10), Total minutes listened, Completion (from 0 to 1), Support requests (number), and Last visited minus purchase date (in days).\n",
        "\n",
        "So these are the inputs (excluding customer ID, as it is completely arbitrary. It's more like a name, than a number).\n",
        "\n",
        "The targets are a Boolean variable (so 0, or 1). We are taking a period of 2 years in our inputs, and the next 6 months as targets. So, in fact, we are predicting if: based on the last 2 years of activity and engagement, a customer will convert in the next 6 months. 6 months sounds like a reasonable time. If they don't convert after 6 months, chances are they've gone to a competitor or didn't like the Audiobook way of digesting information. \n",
        "\n",
        "The task is simple: create a machine learning algorithm, which is able to predict if a customer will buy again. \n",
        "\n",
        "This is a classification problem with two classes: won't buy and will buy, represented by 0s and 1s. \n",
        "\n",
        "Good luck!"
      ]
    },
    {
      "cell_type": "markdown",
      "metadata": {
        "id": "0ME9XkNiL7KK",
        "colab_type": "text"
      },
      "source": [
        "## Create the machine learning algorithm\n",
        "\n"
      ]
    },
    {
      "cell_type": "markdown",
      "metadata": {
        "id": "P6775igXL7KL",
        "colab_type": "text"
      },
      "source": [
        "### Import the relevant libraries"
      ]
    },
    {
      "cell_type": "code",
      "metadata": {
        "id": "hpOZxRvmL7KM",
        "colab_type": "code",
        "colab": {}
      },
      "source": [
        "# we must import the libraries once again since we haven't imported them in this file\n",
        "import numpy as np\n",
        "import tensorflow as tf"
      ],
      "execution_count": 0,
      "outputs": []
    },
    {
      "cell_type": "markdown",
      "metadata": {
        "id": "ejV9j1aWL7KQ",
        "colab_type": "text"
      },
      "source": [
        "### Data"
      ]
    },
    {
      "cell_type": "code",
      "metadata": {
        "id": "CBql-u3RL7KR",
        "colab_type": "code",
        "colab": {}
      },
      "source": [
        "# let's create a temporary variable npz, where we will store each of the three Audiobooks datasets\n",
        "npz = np.load('Audiobooks_data_train.npz')\n",
        "\n",
        "# we extract the inputs using the keyword under which we saved them\n",
        "# to ensure that they are all floats, let's also take care of that\n",
        "train_inputs = npz['inputs'].astype(np.float)\n",
        "# targets must be int because of sparse_categorical_crossentropy (we want to be able to smoothly one-hot encode them)\n",
        "train_targets = npz['targets'].astype(np.int)\n",
        "\n",
        "# we load the validation data in the temporary variable\n",
        "npz = np.load('Audiobooks_data_validation.npz')\n",
        "# we can load the inputs and the targets in the same line\n",
        "validation_inputs, validation_targets = npz['inputs'].astype(np.float), npz['targets'].astype(np.int)\n",
        "\n",
        "# we load the test data in the temporary variable\n",
        "npz = np.load('Audiobooks_data_test.npz')\n",
        "# we create 2 variables that will contain the test inputs and the test targets\n",
        "test_inputs, test_targets = npz['inputs'].astype(np.float), npz['targets'].astype(np.int)"
      ],
      "execution_count": 0,
      "outputs": []
    },
    {
      "cell_type": "markdown",
      "metadata": {
        "id": "lTC9AfsIL7KV",
        "colab_type": "text"
      },
      "source": [
        "### Model\n",
        "Outline, optimizers, loss, early stopping and training"
      ]
    },
    {
      "cell_type": "markdown",
      "metadata": {
        "id": "3Q3b65j7hz3W",
        "colab_type": "text"
      },
      "source": [
        ""
      ]
    },
    {
      "cell_type": "markdown",
      "metadata": {
        "id": "kBcsgMX7hz6P",
        "colab_type": "text"
      },
      "source": [
        ""
      ]
    },
    {
      "cell_type": "markdown",
      "metadata": {
        "id": "u54UEIcmhz8k",
        "colab_type": "text"
      },
      "source": [
        ""
      ]
    },
    {
      "cell_type": "code",
      "metadata": {
        "id": "n3fVXkypL7KW",
        "colab_type": "code",
        "colab": {
          "base_uri": "https://localhost:8080/",
          "height": 538
        },
        "outputId": "c9a84a40-43b6-425d-f747-b73f9227b71f"
      },
      "source": [
        "# Set the input and output sizes\n",
        "input_size = 10\n",
        "output_size = 2\n",
        "# Use same hidden layer size for both hidden layers. Not a necessity.\n",
        "hidden_layer_size = 50\n",
        "    \n",
        "# define how the model will look like\n",
        "model = tf.keras.Sequential([\n",
        "    # tf.keras.layers.Dense is basically implementing: output = activation(dot(input, weight) + bias)\n",
        "    # it takes several arguments, but the most important ones for us are the hidden_layer_size and the activation function\n",
        "    tf.keras.layers.Dense(hidden_layer_size, activation='relu'), # 1st hidden layer\n",
        "    tf.keras.layers.Dense(hidden_layer_size, activation='relu'), # 2nd hidden layer\n",
        "    # the final layer is no different, we just make sure to activate it with softmax\n",
        "    tf.keras.layers.Dense(output_size, activation='softmax') # output layer\n",
        "])\n",
        "\n",
        "\n",
        "### Choose the optimizer and the loss function\n",
        "\n",
        "# we define the optimizer we'd like to use, \n",
        "# the loss function, \n",
        "# and the metrics we are interested in obtaining at each iteration\n",
        "model.compile(optimizer='adam', loss='sparse_categorical_crossentropy', metrics=['accuracy'])\n",
        "\n",
        "### Training\n",
        "# That's where we train the model we have built.\n",
        "\n",
        "# set the batch size\n",
        "batch_size = 100\n",
        "\n",
        "# set a maximum number of training epochs\n",
        "max_epochs = 100\n",
        "\n",
        "# set an early stopping mechanism\n",
        "# let's set patience=2, to be a bit tolerant against random validation loss increases\n",
        "early_stopping = tf.keras.callbacks.EarlyStopping(patience=2)\n",
        "\n",
        "# fit the model\n",
        "# note that this time the train, validation and test data are not iterable\n",
        "model.fit(train_inputs, # train inputs\n",
        "          train_targets, # train targets\n",
        "          batch_size=batch_size, # batch size\n",
        "          epochs=max_epochs, # epochs that we will train for (assuming early stopping doesn't kick in)\n",
        "          # callbacks are functions called by a task when a task is completed\n",
        "          # task here is to check if val_loss is increasing\n",
        "          callbacks=[early_stopping], # early stopping\n",
        "          validation_data=(validation_inputs, validation_targets), # validation data\n",
        "          verbose = 2 # making sure we get enough information about the training process\n",
        "          )  "
      ],
      "execution_count": 8,
      "outputs": [
        {
          "output_type": "stream",
          "text": [
            "Epoch 1/100\n",
            "36/36 - 0s - loss: 0.5002 - accuracy: 0.8494 - val_loss: 0.3942 - val_accuracy: 0.8725\n",
            "Epoch 2/100\n",
            "36/36 - 0s - loss: 0.3481 - accuracy: 0.8787 - val_loss: 0.3392 - val_accuracy: 0.8837\n",
            "Epoch 3/100\n",
            "36/36 - 0s - loss: 0.3091 - accuracy: 0.8854 - val_loss: 0.3217 - val_accuracy: 0.8814\n",
            "Epoch 4/100\n",
            "36/36 - 0s - loss: 0.2936 - accuracy: 0.8902 - val_loss: 0.3084 - val_accuracy: 0.8814\n",
            "Epoch 5/100\n",
            "36/36 - 0s - loss: 0.2794 - accuracy: 0.8944 - val_loss: 0.2997 - val_accuracy: 0.8859\n",
            "Epoch 6/100\n",
            "36/36 - 0s - loss: 0.2692 - accuracy: 0.8983 - val_loss: 0.2927 - val_accuracy: 0.8859\n",
            "Epoch 7/100\n",
            "36/36 - 0s - loss: 0.2636 - accuracy: 0.8994 - val_loss: 0.2840 - val_accuracy: 0.8859\n",
            "Epoch 8/100\n",
            "36/36 - 0s - loss: 0.2565 - accuracy: 0.9019 - val_loss: 0.2787 - val_accuracy: 0.8837\n",
            "Epoch 9/100\n",
            "36/36 - 0s - loss: 0.2505 - accuracy: 0.9058 - val_loss: 0.2785 - val_accuracy: 0.8904\n",
            "Epoch 10/100\n",
            "36/36 - 0s - loss: 0.2486 - accuracy: 0.9061 - val_loss: 0.2739 - val_accuracy: 0.8881\n",
            "Epoch 11/100\n",
            "36/36 - 0s - loss: 0.2441 - accuracy: 0.9078 - val_loss: 0.2689 - val_accuracy: 0.8904\n",
            "Epoch 12/100\n",
            "36/36 - 0s - loss: 0.2421 - accuracy: 0.9081 - val_loss: 0.2667 - val_accuracy: 0.8881\n",
            "Epoch 13/100\n",
            "36/36 - 0s - loss: 0.2412 - accuracy: 0.9100 - val_loss: 0.2637 - val_accuracy: 0.8904\n",
            "Epoch 14/100\n",
            "36/36 - 0s - loss: 0.2377 - accuracy: 0.9100 - val_loss: 0.2645 - val_accuracy: 0.8926\n",
            "Epoch 15/100\n",
            "36/36 - 0s - loss: 0.2368 - accuracy: 0.9117 - val_loss: 0.2661 - val_accuracy: 0.8993\n"
          ],
          "name": "stdout"
        },
        {
          "output_type": "execute_result",
          "data": {
            "text/plain": [
              "<tensorflow.python.keras.callbacks.History at 0x7f6109c4bd30>"
            ]
          },
          "metadata": {
            "tags": []
          },
          "execution_count": 8
        }
      ]
    },
    {
      "cell_type": "markdown",
      "metadata": {
        "id": "UDYowjZZL7Ka",
        "colab_type": "text"
      },
      "source": [
        "## Test the model\n",
        "\n",
        "As we discussed in the lectures, after training on the training data and validating on the validation data, we test the final prediction power of our model by running it on the test dataset that the algorithm has NEVER seen before.\n",
        "\n",
        "It is very important to realize that fiddling with the hyperparameters overfits the validation dataset. \n",
        "\n",
        "The test is the absolute final instance. You should not test before you are completely done with adjusting your model.\n",
        "\n",
        "If you adjust your model after testing, you will start overfitting the test dataset, which will defeat its purpose."
      ]
    },
    {
      "cell_type": "code",
      "metadata": {
        "id": "bSvFipjnL7Kb",
        "colab_type": "code",
        "colab": {
          "base_uri": "https://localhost:8080/",
          "height": 34
        },
        "outputId": "204595c9-5778-4bbe-a8c3-4bac152406cc"
      },
      "source": [
        "test_loss, test_accuracy = model.evaluate(test_inputs, test_targets)"
      ],
      "execution_count": 9,
      "outputs": [
        {
          "output_type": "stream",
          "text": [
            "14/14 [==============================] - 0s 1ms/step - loss: 0.2748 - accuracy: 0.8906\n"
          ],
          "name": "stdout"
        }
      ]
    },
    {
      "cell_type": "code",
      "metadata": {
        "id": "2jcMNHHUL7Ke",
        "colab_type": "code",
        "colab": {
          "base_uri": "https://localhost:8080/",
          "height": 50
        },
        "outputId": "0f7ffd8f-4032-4192-c268-d33eeb8003a8"
      },
      "source": [
        "print('\\nTest loss: {0:.2f}. Test accuracy: {1:.2f}%'.format(test_loss, test_accuracy*100.))"
      ],
      "execution_count": 10,
      "outputs": [
        {
          "output_type": "stream",
          "text": [
            "\n",
            "Test loss: 0.27. Test accuracy: 89.06%\n"
          ],
          "name": "stdout"
        }
      ]
    },
    {
      "cell_type": "markdown",
      "metadata": {
        "id": "qf2Y_RxkL7Kj",
        "colab_type": "text"
      },
      "source": [
        "Using the initial model and hyperparameters given in this notebook, the final test accuracy should be roughly around 91%.\n",
        "\n",
        "Note that each time the code is rerun, we get a different accuracy because each training is different. \n",
        "\n",
        "We have intentionally reached a suboptimal solution, so you can have space to build on it!"
      ]
    },
    {
      "cell_type": "code",
      "metadata": {
        "id": "g8XuKjixgEsH",
        "colab_type": "code",
        "colab": {}
      },
      "source": [
        ""
      ],
      "execution_count": 0,
      "outputs": []
    }
  ]
}